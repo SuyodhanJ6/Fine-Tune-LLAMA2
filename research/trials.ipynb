{
 "cells": [
  {
   "cell_type": "code",
   "execution_count": 1,
   "metadata": {},
   "outputs": [],
   "source": []
  },
  {
   "cell_type": "markdown",
   "metadata": {},
   "source": [
    "### Step 1: Import Required Libraries\n"
   ]
  },
  {
   "cell_type": "code",
   "execution_count": 4,
   "metadata": {},
   "outputs": [],
   "source": [
    "\n",
    "from gradientai import Gradient\n",
    "from lama2FineTune.constants.env_varaible import *"
   ]
  },
  {
   "cell_type": "markdown",
   "metadata": {},
   "source": [
    "### Step 4: Initialize Gradient and Create Model Adapter"
   ]
  },
  {
   "cell_type": "code",
   "execution_count": 5,
   "metadata": {},
   "outputs": [
    {
     "name": "stdout",
     "output_type": "stream",
     "text": [
      "Created model adapter with id e674387c-ab0f-4f4c-9d64-279e33eecbfc_model_adapter\n"
     ]
    }
   ],
   "source": [
    "gradient = Gradient()\n",
    "\n",
    "base_model = gradient.get_base_model(base_model_slug=\"nous-hermes2\")\n",
    "\n",
    "new_model_adapter = base_model.create_model_adapter(\n",
    "    name=\"SuyodhanModelAdapter\"\n",
    ")\n",
    "print(f\"Created model adapter with id {new_model_adapter.id}\")\n"
   ]
  },
  {
   "cell_type": "markdown",
   "metadata": {},
   "source": [
    "### Step 5: Define Sample Query and Perform Inference (Before Fine-tuning)\n"
   ]
  },
  {
   "cell_type": "code",
   "execution_count": 8,
   "metadata": {},
   "outputs": [
    {
     "name": "stdout",
     "output_type": "stream",
     "text": [
      "Asking: ### Instruction: Tell me about Prashant Malge's background and skills. \n",
      "\n",
      " ### Response:\n"
     ]
    }
   ],
   "source": [
    "# Modified sample query\n",
    "sample_query = \"### Instruction: Tell me about Prashant Malge's background and skills. \\n\\n ### Response:\"\n",
    "print(f\"Asking: {sample_query}\")\n"
   ]
  },
  {
   "cell_type": "markdown",
   "metadata": {},
   "source": [
    "### Step 6: Define Samples for Fine-tuning"
   ]
  },
  {
   "cell_type": "code",
   "execution_count": 9,
   "metadata": {},
   "outputs": [],
   "source": [
    "samples = [\n",
    "    {\n",
    "        \"inputs\": \"### Instruction: Who is Prashant Malge? \\n\\n### Response: Prashant Malge is a dedicated fourth-year Computer Science student at DPCOE - Dhole Patil College Of Engineering Pune, with a strong passion for data science. He has a solid foundation in programming, databases, and machine learning.\"\n",
    "    },\n",
    "    {\n",
    "        \"inputs\": \"### Instruction: Tell me about Prashant Malge's academic journey. \\n\\n### Response: Prashant Malge's academic journey has equipped him with a solid foundation in programming, databases, and machine learning. He is currently a fourth-year student at DPCOE - Dhole Patil College Of Engineering Pune.\"\n",
    "    },\n",
    "    {\n",
    "        \"inputs\": \"### Instruction: What skills does Prashant Malge possess? \\n\\n### Response: Prashant Malge possesses skills in statistical analysis, machine learning, and data visualization. As a Data Scientist, he leverages his expertise to derive insights and make informed decisions.\"\n",
    "    },\n",
    "    {\n",
    "        \"inputs\": \"### Instruction: Where has Prashant Malge gained hands-on experience in data science? \\n\\n### Response: Prashant Malge gained hands-on experience in data science through two internships at inuron.ai. During these internships, he addressed complex data problems and collaborated effectively with stakeholders.\"\n",
    "    },\n",
    "    {\n",
    "        \"inputs\": \"### Instruction: How does Prashant Malge approach data problems? \\n\\n### Response: Prashant Malge excels in addressing complex data problems and is known for his collaborative approach. He works effectively with stakeholders to deliver scalable and secure data solutions.\"\n",
    "    },\n",
    "    {\n",
    "        \"inputs\": \"### Instruction: What are Prashant Malge's interests outside of data science? \\n\\n### Response: Beyond his technical pursuits, Prashant Malge has a deep love for tea and a passion for sports. He has played softball for years, representing Kolhapur in state-level competitions three times.\"\n",
    "    },\n",
    "    {\n",
    "        \"inputs\": \"### Instruction: Can you share Prashant Malge's personal website? \\n\\n### Response: Prashant Malge's personal website is available at https://suyodhanj6.github.io/\"\n",
    "    }\n",
    "]\n"
   ]
  },
  {
   "cell_type": "markdown",
   "metadata": {},
   "source": [
    "### Step 7: Fine-tune the Model\n",
    "\n"
   ]
  },
  {
   "cell_type": "code",
   "execution_count": 10,
   "metadata": {},
   "outputs": [
    {
     "name": "stdout",
     "output_type": "stream",
     "text": [
      "Fine-tuning the model with iteration 1\n",
      "Fine-tuning the model with iteration 2\n",
      "Fine-tuning the model with iteration 3\n"
     ]
    }
   ],
   "source": [
    "num_epochs = 3\n",
    "count = 0\n",
    "while count < num_epochs:\n",
    "    print(f\"Fine-tuning the model with iteration {count + 1}\")\n",
    "    new_model_adapter.fine_tune(samples=samples)\n",
    "    count = count + 1\n"
   ]
  },
  {
   "cell_type": "code",
   "execution_count": 11,
   "metadata": {},
   "outputs": [
    {
     "name": "stdout",
     "output_type": "stream",
     "text": [
      "Generated (before fine-tuning):  Prashant Malge is a Data Scientist with a strong foundation in Machine Learning, Data Science, and Business Intelligence. He has a Bachelor's degree in Computer Engineering from DPCOE - Dhole Patil College Of Engineering Pune. Prashant has experience working with various industries, including healthcare and finance. He is skilled in Python, R, SQL, and Tableau. Additionally, Prashant has expertise in data preprocessing, feature\n"
     ]
    }
   ],
   "source": [
    "# Generating response before fine-tuning\n",
    "completion = new_model_adapter.complete(query=sample_query, max_generated_token_count=100).generated_output\n",
    "print(f\"Generated (before fine-tuning): {completion}\")\n"
   ]
  },
  {
   "cell_type": "markdown",
   "metadata": {},
   "source": [
    "### Step 8: Perform Inference (After Fine-tuning)\n",
    "\n"
   ]
  },
  {
   "cell_type": "code",
   "execution_count": null,
   "metadata": {},
   "outputs": [],
   "source": [
    "# after fine tuning\n",
    "completion = new_model_adapter.complete(query=sample_query, max_generated_token_count=100).generated_output\n",
    "print(f\"Generated(after fine tuning): {completion}\")\n"
   ]
  },
  {
   "cell_type": "markdown",
   "metadata": {},
   "source": [
    "### Step 9: Delete Model Adapter and Close Gradient Connection"
   ]
  },
  {
   "cell_type": "code",
   "execution_count": null,
   "metadata": {},
   "outputs": [],
   "source": [
    "new_model_adapter.delete()\n",
    "gradient.close()"
   ]
  },
  {
   "cell_type": "code",
   "execution_count": 13,
   "metadata": {},
   "outputs": [],
   "source": [
    "from gradientai import Gradient\n"
   ]
  },
  {
   "cell_type": "code",
   "execution_count": 12,
   "metadata": {},
   "outputs": [],
   "source": [
    "from lama2FineTune.constants.env_varaible import GRADIENT_WORKSPACE_ID, GRADIENT_ACCESS_TOKEN"
   ]
  }
 ],
 "metadata": {
  "kernelspec": {
   "display_name": "Python 3",
   "language": "python",
   "name": "python3"
  },
  "language_info": {
   "codemirror_mode": {
    "name": "ipython",
    "version": 3
   },
   "file_extension": ".py",
   "mimetype": "text/x-python",
   "name": "python",
   "nbconvert_exporter": "python",
   "pygments_lexer": "ipython3",
   "version": "3.9.18"
  }
 },
 "nbformat": 4,
 "nbformat_minor": 2
}
